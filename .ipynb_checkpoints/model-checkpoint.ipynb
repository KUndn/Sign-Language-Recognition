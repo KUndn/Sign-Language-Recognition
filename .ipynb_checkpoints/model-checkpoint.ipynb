{
 "cells": [
  {
   "cell_type": "code",
   "execution_count": 1,
   "metadata": {},
   "outputs": [
    {
     "name": "stderr",
     "output_type": "stream",
     "text": [
      "Using TensorFlow backend.\n",
      "/usr/lib/python3.6/importlib/_bootstrap.py:219: RuntimeWarning: numpy.dtype size changed, may indicate binary incompatibility. Expected 96, got 88\n",
      "  return f(*args, **kwds)\n",
      "/usr/lib/python3.6/importlib/_bootstrap.py:219: RuntimeWarning: numpy.dtype size changed, may indicate binary incompatibility. Expected 96, got 88\n",
      "  return f(*args, **kwds)\n"
     ]
    }
   ],
   "source": [
    "import numpy as np\n",
    "from keras.layers import Conv2D, Dense, Flatten, Dropout, MaxPooling2D\n",
    "from keras.models import Sequential, save_model\n",
    "from keras.utils import np_utils\n",
    "from keras.callbacks import ModelCheckpoint\n",
    "from sklearn.model_selection import train_test_split\n",
    "from sklearn.utils import shuffle\n",
    "import os\n",
    "import cv2"
   ]
  },
  {
   "cell_type": "code",
   "execution_count": 2,
   "metadata": {},
   "outputs": [],
   "source": [
    "path = './preprocessed_new/'"
   ]
  },
  {
   "cell_type": "code",
   "execution_count": 3,
   "metadata": {},
   "outputs": [],
   "source": [
    "gestures = os.listdir(path)"
   ]
  },
  {
   "cell_type": "code",
   "execution_count": 4,
   "metadata": {},
   "outputs": [],
   "source": [
    "dict_lables = {\n",
    "    'A': 1,\n",
    "    'B': 2,\n",
    "    'C':3,\n",
    "    'D':4,\n",
    "    'E':5,\n",
    "    'F':6,\n",
    "    'G':7,\n",
    "    'H':8,\n",
    "    'I':9,\n",
    "    'K':10,\n",
    "    'L':11,\n",
    "    'M':12,\n",
    "    'N':13,\n",
    "    'O':14,\n",
    "    'P':15,\n",
    "    'Q':16,\n",
    "    'R':17,\n",
    "    'S':18,\n",
    "    'T':19,\n",
    "    'U':20,\n",
    "    'V':21,\n",
    "    'W':22,\n",
    "    'X':23,\n",
    "    'Y':24,\n",
    "    \n",
    "}"
   ]
  },
  {
   "cell_type": "code",
   "execution_count": 5,
   "metadata": {},
   "outputs": [],
   "source": [
    "x, y = [], []\n",
    "for ix in gestures:\n",
    "    images = os.listdir(path + ix)\n",
    "    for cx in images:\n",
    "        img_path = path + ix + '/' + cx\n",
    "        img = cv2.imread(img_path, 0)\n",
    "        img = img.reshape((50,50,1))\n",
    "        img = img/255.0\n",
    "        x.append(img)\n",
    "        y.append(dict_lables[ix])"
   ]
  },
  {
   "cell_type": "code",
   "execution_count": 6,
   "metadata": {},
   "outputs": [],
   "source": [
    "X = np.array(x)\n",
    "Y = np.array(y)\n",
    "Y = np_utils.to_categorical(Y)"
   ]
  },
  {
   "cell_type": "code",
   "execution_count": 7,
   "metadata": {},
   "outputs": [],
   "source": [
    "categories = Y.shape[1]"
   ]
  },
  {
   "cell_type": "code",
   "execution_count": 8,
   "metadata": {},
   "outputs": [],
   "source": [
    "X, Y = shuffle(X, Y, random_state=0)"
   ]
  },
  {
   "cell_type": "code",
   "execution_count": 9,
   "metadata": {},
   "outputs": [],
   "source": [
    "X_train, X_test, Y_train, Y_test = train_test_split(X, Y, test_size=0.3)"
   ]
  },
  {
   "cell_type": "code",
   "execution_count": 10,
   "metadata": {},
   "outputs": [
    {
     "name": "stdout",
     "output_type": "stream",
     "text": [
      "(20160, 50, 50, 1) (8640, 50, 50, 1)\n",
      "(20160, 25) (8640, 25)\n"
     ]
    }
   ],
   "source": [
    "print(X_train.shape, X_test.shape)\n",
    "print(Y_train.shape, Y_test.shape)"
   ]
  },
  {
   "cell_type": "code",
   "execution_count": 11,
   "metadata": {},
   "outputs": [
    {
     "name": "stdout",
     "output_type": "stream",
     "text": [
      "_________________________________________________________________\n",
      "Layer (type)                 Output Shape              Param #   \n",
      "=================================================================\n",
      "conv2d_1 (Conv2D)            (None, 48, 48, 32)        320       \n",
      "_________________________________________________________________\n",
      "conv2d_2 (Conv2D)            (None, 46, 46, 64)        18496     \n",
      "_________________________________________________________________\n",
      "max_pooling2d_1 (MaxPooling2 (None, 23, 23, 64)        0         \n",
      "_________________________________________________________________\n",
      "conv2d_3 (Conv2D)            (None, 21, 21, 16)        9232      \n",
      "_________________________________________________________________\n",
      "flatten_1 (Flatten)          (None, 7056)              0         \n",
      "_________________________________________________________________\n",
      "dropout_1 (Dropout)          (None, 7056)              0         \n",
      "_________________________________________________________________\n",
      "dense_1 (Dense)              (None, 25)                176425    \n",
      "=================================================================\n",
      "Total params: 204,473\n",
      "Trainable params: 204,473\n",
      "Non-trainable params: 0\n",
      "_________________________________________________________________\n"
     ]
    }
   ],
   "source": [
    "model = Sequential()\n",
    "model.add(Conv2D(32, kernel_size=(3,3), input_shape=(50,50,1), activation='relu'))\n",
    "model.add(Conv2D(64, kernel_size=(3,3), activation='relu'))\n",
    "model.add(MaxPooling2D(pool_size=(2,2)))\n",
    "model.add(Conv2D(16, kernel_size=(3,3), activation='relu'))\n",
    "model.add(Flatten())\n",
    "model.add(Dropout(0.4))\n",
    "model.add(Dense(categories, activation='softmax'))\n",
    "\n",
    "model.summary()"
   ]
  },
  {
   "cell_type": "code",
   "execution_count": 12,
   "metadata": {},
   "outputs": [],
   "source": [
    "checkpoint = ModelCheckpoint('model-{val_acc:.4f}.h5', monitor='val_acc', verbose=0, save_best_only=True, mode='auto')"
   ]
  },
  {
   "cell_type": "code",
   "execution_count": 13,
   "metadata": {},
   "outputs": [],
   "source": [
    "model.compile(optimizer='Adam', metrics=['accuracy'], loss='categorical_crossentropy')"
   ]
  },
  {
   "cell_type": "code",
   "execution_count": 14,
   "metadata": {},
   "outputs": [
    {
     "name": "stdout",
     "output_type": "stream",
     "text": [
      "Train on 20160 samples, validate on 8640 samples\n",
      "Epoch 1/10\n",
      "20160/20160 [==============================] - 210s 10ms/step - loss: 0.4572 - acc: 0.8714 - val_loss: 0.1110 - val_acc: 0.9738\n",
      "Epoch 2/10\n",
      "20160/20160 [==============================] - 184s 9ms/step - loss: 0.0924 - acc: 0.9735 - val_loss: 0.0754 - val_acc: 0.9816\n",
      "Epoch 3/10\n",
      "20160/20160 [==============================] - 203s 10ms/step - loss: 0.0572 - acc: 0.9829 - val_loss: 0.0557 - val_acc: 0.9861\n",
      "Epoch 4/10\n",
      "20160/20160 [==============================] - 221s 11ms/step - loss: 0.0367 - acc: 0.9886 - val_loss: 0.0479 - val_acc: 0.9877\n",
      "Epoch 5/10\n",
      "20160/20160 [==============================] - 183s 9ms/step - loss: 0.0257 - acc: 0.9922 - val_loss: 0.0450 - val_acc: 0.9882\n",
      "Epoch 6/10\n",
      "20160/20160 [==============================] - 195s 10ms/step - loss: 0.0253 - acc: 0.9913 - val_loss: 0.0373 - val_acc: 0.9916\n",
      "Epoch 7/10\n",
      "20160/20160 [==============================] - 248s 12ms/step - loss: 0.0155 - acc: 0.9946 - val_loss: 0.0418 - val_acc: 0.9909\n",
      "Epoch 8/10\n",
      "20160/20160 [==============================] - 245s 12ms/step - loss: 0.0176 - acc: 0.9937 - val_loss: 0.0482 - val_acc: 0.9902\n",
      "Epoch 9/10\n",
      "20160/20160 [==============================] - 223s 11ms/step - loss: 0.0161 - acc: 0.9946 - val_loss: 0.0371 - val_acc: 0.9909\n",
      "Epoch 10/10\n",
      "20160/20160 [==============================] - 217s 11ms/step - loss: 0.0108 - acc: 0.9968 - val_loss: 0.0424 - val_acc: 0.9897\n"
     ]
    }
   ],
   "source": [
    "history = model.fit(X_train, Y_train, batch_size=64, epochs=10, validation_data=[X_test, Y_test], callbacks=[checkpoint])"
   ]
  },
  {
   "cell_type": "code",
   "execution_count": null,
   "metadata": {},
   "outputs": [],
   "source": []
  }
 ],
 "metadata": {
  "kernelspec": {
   "display_name": "Python 3",
   "language": "python",
   "name": "python3"
  },
  "language_info": {
   "codemirror_mode": {
    "name": "ipython",
    "version": 3
   },
   "file_extension": ".py",
   "mimetype": "text/x-python",
   "name": "python",
   "nbconvert_exporter": "python",
   "pygments_lexer": "ipython3",
   "version": "3.6.5"
  }
 },
 "nbformat": 4,
 "nbformat_minor": 2
}
